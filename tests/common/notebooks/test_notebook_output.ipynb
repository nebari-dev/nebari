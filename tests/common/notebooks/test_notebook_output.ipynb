{
 "cells": [
  {
   "cell_type": "code",
   "execution_count": null,
   "id": "2bc13e3d-e873-47c7-87cb-f32616223799",
   "metadata": {
    "tags": []
   },
   "outputs": [],
   "source": [
    "import math"
   ]
  },
  {
   "cell_type": "code",
   "execution_count": null,
   "id": "96086b64-43c1-40d2-bef8-39ec98e49379",
   "metadata": {
    "tags": []
   },
   "outputs": [],
   "source": [
    "foo = 3"
   ]
  },
  {
   "cell_type": "code",
   "execution_count": null,
   "id": "564c0da2-e9cf-4a93-a782-caad2eafba1b",
   "metadata": {
    "tags": []
   },
   "outputs": [],
   "source": [
    "print(f'success: { foo + foo}')"
   ]
  }
 ],
 "metadata": {
  "kernelspec": {
   "display_name": "Python 3 (ipykernel)",
   "language": "python",
   "name": "python3"
  },
  "language_info": {
   "codemirror_mode": {
    "name": "ipython",
    "version": 3
   },
   "file_extension": ".py",
   "mimetype": "text/x-python",
   "name": "python",
   "nbconvert_exporter": "python",
   "pygments_lexer": "ipython3",
   "version": "3.10.9"
  }
 },
 "nbformat": 4,
 "nbformat_minor": 5
}
