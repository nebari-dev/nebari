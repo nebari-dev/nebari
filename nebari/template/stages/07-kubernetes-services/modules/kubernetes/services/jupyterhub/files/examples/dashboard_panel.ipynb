{
 "cells": [
  {
   "cell_type": "code",
   "execution_count": null,
   "id": "b140a52e-c828-4da5-ae75-4fd2eac1692e",
   "metadata": {},
   "outputs": [],
   "source": [
    "import panel\n",
    "panel.extension()"
   ]
  },
  {
   "cell_type": "code",
   "execution_count": null,
   "id": "78cb2a0c-4614-4960-b996-77b189743444",
   "metadata": {},
   "outputs": [],
   "source": [
    "content = panel.pane.Markdown('''\n",
    "# Hello QHub\n",
    "\n",
    "This is some markdown content\n",
    "''')\n",
    "\n",
    "png = panel.panel('https://upload.wikimedia.org/wikipedia/commons/4/47/PNG_transparency_demonstration_1.png', width=300)\n",
    "\n",
    "widget = panel.widgets.TextInput(name='A widget', value='A string')"
   ]
  },
  {
   "cell_type": "code",
   "execution_count": null,
   "id": "11d07b92-146b-45c1-915c-228944f4cfce",
   "metadata": {},
   "outputs": [],
   "source": [
    "dashboard = panel.Row(content, png, widget)"
   ]
  },
  {
   "cell_type": "code",
   "execution_count": null,
   "id": "a452fc0b-8183-4944-bf63-f02312df031c",
   "metadata": {},
   "outputs": [],
   "source": [
    "dashboard.servable()"
   ]
  },
  {
   "cell_type": "code",
   "execution_count": null,
   "id": "21d69cfc-53c6-40cd-9664-6ba75c6f8ed0",
   "metadata": {},
   "outputs": [],
   "source": []
  }
 ],
 "metadata": {
  "kernelspec": {
   "display_name": "filesystem-dashboard",
   "language": "python",
   "name": "conda-env-filesystem-dashboard-py"
  },
  "language_info": {
   "codemirror_mode": {
    "name": "ipython",
    "version": 3
   },
   "file_extension": ".py",
   "mimetype": "text/x-python",
   "name": "python",
   "nbconvert_exporter": "python",
   "pygments_lexer": "ipython3",
   "version": "3.9.7"
  }
 },
 "nbformat": 4,
 "nbformat_minor": 5
}
