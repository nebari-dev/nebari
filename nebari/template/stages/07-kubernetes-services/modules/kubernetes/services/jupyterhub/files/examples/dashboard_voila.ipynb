{
 "cells": [
  {
   "cell_type": "code",
   "execution_count": null,
   "id": "fe04b4ce-ea17-4f8e-bd20-d0ea2d7b42d7",
   "metadata": {},
   "outputs": [],
   "source": [
    "%matplotlib inline\n",
    "\n",
    "from ipywidgets import interact\n",
    "import matplotlib.pyplot as plt\n",
    "plt.style.use('seaborn-whitegrid')\n",
    "import numpy as np"
   ]
  },
  {
   "cell_type": "code",
   "execution_count": null,
   "id": "537d83a3-dd3f-4ed0-bd8e-1fa3c04503cd",
   "metadata": {},
   "outputs": [],
   "source": [
    "def pltsincos(t=0):\n",
    "    fig = plt.figure(figsize=(10,5))\n",
    "    ax = plt.axes()\n",
    "    x = np.linspace(0, 10, 1000)\n",
    "    ax.plot(x, np.sin(x*t))\n",
    "    ax.plot(x, np.cos(x*t))"
   ]
  },
  {
   "cell_type": "code",
   "execution_count": null,
   "id": "ea9edb88-abfe-4312-b050-df38b309d11b",
   "metadata": {},
   "outputs": [],
   "source": [
    "interact(pltsincos, t=(1,10,0.1))"
   ]
  },
  {
   "cell_type": "code",
   "execution_count": null,
   "id": "3dfdb921-262c-4b78-a468-009fc980e216",
   "metadata": {},
   "outputs": [],
   "source": []
  }
 ],
 "metadata": {
  "kernelspec": {
   "display_name": "filesystem-dashboard",
   "language": "python",
   "name": "conda-env-filesystem-dashboard-py"
  },
  "language_info": {
   "codemirror_mode": {
    "name": "ipython",
    "version": 3
   },
   "file_extension": ".py",
   "mimetype": "text/x-python",
   "name": "python",
   "nbconvert_exporter": "python",
   "pygments_lexer": "ipython3",
   "version": "3.9.7"
  }
 },
 "nbformat": 4,
 "nbformat_minor": 5
}
