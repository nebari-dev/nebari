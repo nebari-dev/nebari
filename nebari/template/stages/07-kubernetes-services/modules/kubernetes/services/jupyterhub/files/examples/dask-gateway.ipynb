{
 "cells": [
  {
   "cell_type": "markdown",
   "id": "26efb8ac-2c5c-4de3-a3f5-c68e4c00bb3b",
   "metadata": {},
   "source": [
    "# Dask and DaskGateway Tutorial\n",
    "\n",
    " - [dask gateway](https://gateway.dask.org/)\n",
    " - [dask](https://tutorial.dask.org/)\n",
    " \n",
    "Dask is a framework for easily paralellizing python code."
   ]
  },
  {
   "cell_type": "code",
   "execution_count": null,
   "id": "23849ee7-918f-4730-b262-a692489a81c5",
   "metadata": {},
   "outputs": [],
   "source": [
    "# core object for interacting with dask_gateway\n",
    "from dask_gateway import Gateway\n",
    "gateway = Gateway()"
   ]
  },
  {
   "cell_type": "markdown",
   "id": "43e901d1-0779-446c-99b6-36152dc4abc6",
   "metadata": {},
   "source": [
    "## List active cluster\n",
    "\n",
    "QHub has a rich authorization model so it is possible that your given user does not have access. Consult your administrator if you need access."
   ]
  },
  {
   "cell_type": "code",
   "execution_count": null,
   "id": "9c8b55b7-94b1-4bae-b6c7-0e9a72ba721b",
   "metadata": {},
   "outputs": [],
   "source": [
    "gateway.list_clusters()"
   ]
  },
  {
   "cell_type": "markdown",
   "id": "66472ef7-acc7-4c3b-89b8-1ba8b9abcc7f",
   "metadata": {},
   "source": [
    "# Dask Gateway Options\n",
    "\n",
    "When spinning up a Dask cluster there are many options. For QHub we have simplified these options into:\n",
    "  - the environment that you want your Dask scheduler and workers to run (ensure this matches your jupyter kernel in the top right of this notebook)\n",
    "  - the size of the given scheduler and workers. This is configurable by your administrator and often controls the cpu and ram per worker\n",
    "  - environment variables to set on the workers"
   ]
  },
  {
   "cell_type": "code",
   "execution_count": null,
   "id": "80bdac9f-d662-4258-bbeb-a74869a4a6d9",
   "metadata": {},
   "outputs": [],
   "source": [
    "options = gateway.cluster_options()\n",
    "options"
   ]
  },
  {
   "cell_type": "markdown",
   "id": "8c96e22d-554e-47a4-9186-9d4b6c68a776",
   "metadata": {},
   "source": [
    "# Create a new Dask cluster\n",
    "\n",
    "Clusters can easily be created by asking Dask Gateway for a new cluster. The cluster will be created with all the options selected above. Once a gui is created you should be able to click on the dashboard link to see dask scheduler dashboard. This is useful for debugging. Additionally in the menu below you can scale up and down the cluster.\n",
    "\n",
    "Often when scaling up and down the workers this causes QHub to have to create new nodes which in the cloud takes a few minutes (5-6 minutes)."
   ]
  },
  {
   "cell_type": "code",
   "execution_count": null,
   "id": "c33e8145-48ea-4ead-b45c-d160802a984e",
   "metadata": {},
   "outputs": [],
   "source": [
    "cluster = gateway.new_cluster(options)\n",
    "cluster"
   ]
  },
  {
   "cell_type": "markdown",
   "id": "2b3ba921-7072-49d0-9114-e1cd00922d6c",
   "metadata": {},
   "source": [
    "# Create a dask client\n",
    "\n",
    "The client object is what dask uses for all computations. It is from this point that all computation should be a normal dask computation."
   ]
  },
  {
   "cell_type": "code",
   "execution_count": null,
   "id": "3e7fbe45-6552-45c1-a5c2-affd7e274603",
   "metadata": {},
   "outputs": [],
   "source": [
    "client = cluster.get_client()\n",
    "client"
   ]
  },
  {
   "cell_type": "markdown",
   "id": "05a5da3c-cab7-4f4b-8b62-9e601d602490",
   "metadata": {},
   "source": [
    "# Sample Computation"
   ]
  },
  {
   "cell_type": "code",
   "execution_count": null,
   "id": "99280b60-93df-4def-847b-cb52867cc902",
   "metadata": {},
   "outputs": [],
   "source": [
    "import dask.array as da\n",
    "x = da.random.random((10000, 10000), chunks=(1000, 1000))\n",
    "x"
   ]
  },
  {
   "cell_type": "code",
   "execution_count": null,
   "id": "5102e0b3-953a-44a1-8d29-0505c59e6b69",
   "metadata": {},
   "outputs": [],
   "source": [
    "y = x + x.T\n",
    "z = y[::2, 5000:].mean(axis=1)\n",
    "z"
   ]
  },
  {
   "cell_type": "code",
   "execution_count": null,
   "id": "574e631a-17b0-4748-91a5-1deef727557a",
   "metadata": {},
   "outputs": [],
   "source": [
    "z.compute()"
   ]
  },
  {
   "cell_type": "code",
   "execution_count": null,
   "id": "9509baaa-4d8a-42d5-917b-c30e58b71626",
   "metadata": {},
   "outputs": [],
   "source": []
  }
 ],
 "metadata": {
  "kernelspec": {
   "display_name": "filesystem-dask",
   "language": "python",
   "name": "conda-env-filesystem-dask-py"
  },
  "language_info": {
   "codemirror_mode": {
    "name": "ipython",
    "version": 3
   },
   "file_extension": ".py",
   "mimetype": "text/x-python",
   "name": "python",
   "nbconvert_exporter": "python",
   "pygments_lexer": "ipython3",
   "version": "3.9.10"
  }
 },
 "nbformat": 4,
 "nbformat_minor": 5
}
